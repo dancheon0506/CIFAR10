{
 "cells": [
  {
   "cell_type": "markdown",
   "metadata": {},
   "source": [
    "# CNN Model"
   ]
  },
  {
   "cell_type": "code",
   "execution_count": null,
   "metadata": {},
   "outputs": [],
   "source": [
    "class CNN(nn.Module):\n",
    "\n",
    "    def __init__(self, act, pooling):\n",
    "        super(CNN, self).__init__()\n",
    "        self.act = act\n",
    "        self.pooling = pooling\n",
    "        \n",
    "        self.conv1 = nn.Conv2d(in_channels = 3,\n",
    "                               out_channels = 64,\n",
    "                               kernel_size = 3,\n",
    "                               stride = 1,\n",
    "                               padding = 1)\n",
    "        self.conv2 = nn.Conv2d(in_channels = 64,\n",
    "                               out_channels = 256,\n",
    "                               kernel_size = 5,\n",
    "                               stride = 1,\n",
    "                               padding = 2)\n",
    "        \n",
    "        if self.act == 'relu':\n",
    "            self.act = nn.ReLU()\n",
    "        elif self.act == 'tanh':\n",
    "            self.act == nn.Tanh()\n",
    "        elif self.act == 'sigmoid':\n",
    "            self.act = nn.Sigmoid()\n",
    "        else:\n",
    "            raise ValueError('no valid activation function selected!')\n",
    "       \n",
    "        if self.pooling == 'max_pooling': \n",
    "            self.pooling = nn.MaxPool2d(kernel_size = 2, stride = 2)\n",
    "        elif self.pooling == 'avg_pooling':\n",
    "            self.pooling = AvgPool2d(kernel_size = 2, stride=2)\n",
    "        else: \n",
    "            raise ValueError('Not a valid pooling code')\n",
    "        \n",
    "        self.fc = nn.Linear(65536, 10)\n",
    "        \n",
    "    def forward(self, x):\n",
    "        x = self.conv1(x)\n",
    "        x = self.act(x)\n",
    "        x = self.conv2(x)\n",
    "        x = self.act(x)\n",
    "        x = self.pooling(x)\n",
    "        x = x.view(x.size(0), -1)\n",
    "        x = self.fc(x)\n",
    "        return x"
   ]
  },
  {
   "cell_type": "markdown",
   "metadata": {},
   "source": [
    "# Experiment Code"
   ]
  },
  {
   "cell_type": "code",
   "execution_count": null,
   "metadata": {},
   "outputs": [],
   "source": [
    "def experiment(partition, args):\n",
    "    \n",
    "    net = CNN(act = args.act,\n",
    "              pooling = args.pooling)\n",
    "    net.cuda()\n",
    "\n",
    "    criterion = nn.CrossEntropyLoss()\n",
    "    if args.optim == 'SGD':\n",
    "        optimizer = optim.SGD(net.parameters(), lr=args.lr, weight_decay=args.l2)\n",
    "    elif args.optim == 'RMSprop':\n",
    "        optimizer = optim.RMSprop(net.parameters(), lr=args.lr, weight_decay=args.l2)\n",
    "    elif args.optim == 'Adam':\n",
    "        optimizer = optim.Adam(net.parameters(), lr=args.lr, weight_decay=args.l2)\n",
    "    else:\n",
    "        raise ValueError('In-valid optimizer choice')\n",
    "    \n",
    "    train_losses = []\n",
    "    val_losses = []\n",
    "    train_accs = []\n",
    "    val_accs = []\n",
    "        \n",
    "    for epoch in range(args.epoch):  # loop over the dataset multiple times\n",
    "        ts = time.time()\n",
    "        net, train_loss, train_acc = train(net, partition, optimizer, criterion, args)\n",
    "        val_loss, val_acc = validate(net, partition, criterion, args)\n",
    "        te = time.time()\n",
    "        \n",
    "        train_losses.append(train_loss)\n",
    "        val_losses.append(val_loss)\n",
    "        train_accs.append(train_acc)\n",
    "        val_accs.append(val_acc)\n",
    "        \n",
    "        print('Epoch {}, Acc(train/val): {:2.2f}/{:2.2f}, Loss(train/val) {:2.2f}/{:2.2f}. Took {:2.2f} sec'.format(epoch, train_acc, val_acc, train_loss, val_loss, te-ts))\n",
    "        \n",
    "    test_acc = test(net, partition, args)    \n",
    "    \n",
    "    result = {}\n",
    "    result['train_losses'] = train_losses\n",
    "    result['val_losses'] = val_losses\n",
    "    result['train_accs'] = train_accs\n",
    "    result['val_accs'] = val_accs\n",
    "    result['train_acc'] = train_acc\n",
    "    result['val_acc'] = val_acc\n",
    "    result['test_acc'] = test_acc\n",
    "    return vars(args), result"
   ]
  },
  {
   "cell_type": "markdown",
   "metadata": {},
   "source": [
    "# Experiment"
   ]
  },
  {
   "cell_type": "code",
   "execution_count": null,
   "metadata": {},
   "outputs": [],
   "source": [
    "# ====== Random Seed Initialization ====== #\n",
    "seed = 123\n",
    "np.random.seed(seed)\n",
    "torch.manual_seed(seed)\n",
    "\n",
    "parser = argparse.ArgumentParser()\n",
    "args = parser.parse_args(\"\")\n",
    "args.exp_name = \"exp1_basic_CNN_model_max_pooling\"\n",
    "\n",
    "# ====== Model ====== #\n",
    "args.act = 'relu' \n",
    "args.pooling = 'max_pooling'  #'max_pooling' #'avg_pooling'\n",
    "\n",
    "# ====== Regularization ======= #\n",
    "args.l2 = 0.00001\n",
    "\n",
    "# ====== Optimizer & Training ====== #\n",
    "args.optim = 'Adam' #'RMSprop' #SGD, RMSprop, ADAM...\n",
    "args.lr = 0.0001\n",
    "args.epoch = 10\n",
    "\n",
    "args.train_batch_size = 512\n",
    "args.test_batch_size = 1024\n",
    "                \n",
    "setting, result = experiment(partition, deepcopy(args))\n",
    "save_exp_result(setting, result)"
   ]
  },
  {
   "cell_type": "markdown",
   "metadata": {},
   "source": [
    "#### Epoch 0, Acc(train/val): 38.76/47.00, Loss(train/val) 1.74/1.52. Took 34.73 sec\n",
    "#### Epoch 1, Acc(train/val): 50.53/50.60, Loss(train/val) 1.41/1.39. Took 35.65 sec\n",
    "#### Epoch 2, Acc(train/val): 55.60/54.82, Loss(train/val) 1.27/1.29. Took 34.93 sec\n",
    "#### Epoch 3, Acc(train/val): 58.70/56.98, Loss(train/val) 1.18/1.22. Took 35.17 sec\n",
    "#### Epoch 4, Acc(train/val): 61.12/59.23, Loss(train/val) 1.12/1.16. Took 35.27 sec\n",
    "#### Epoch 5, Acc(train/val): 63.60/61.33, Loss(train/val) 1.06/1.12. Took 35.15 sec\n",
    "#### Epoch 6, Acc(train/val): 65.04/62.58, Loss(train/val) 1.01/1.08. Took 35.06 sec\n",
    "#### Epoch 7, Acc(train/val): 66.83/62.69, Loss(train/val) 0.97/1.07. Took 35.15 sec\n",
    "#### Epoch 8, Acc(train/val): 68.28/63.05, Loss(train/val) 0.92/1.07. Took 35.17 sec\n",
    "#### Epoch 9, Acc(train/val): 69.04/64.42, Loss(train/val) 0.90/1.03. Took 35.18 sec"
   ]
  },
  {
   "cell_type": "code",
   "execution_count": null,
   "metadata": {},
   "outputs": [],
   "source": []
  }
 ],
 "metadata": {
  "kernelspec": {
   "display_name": "Python 3",
   "language": "python",
   "name": "python3"
  },
  "language_info": {
   "codemirror_mode": {
    "name": "ipython",
    "version": 3
   },
   "file_extension": ".py",
   "mimetype": "text/x-python",
   "name": "python",
   "nbconvert_exporter": "python",
   "pygments_lexer": "ipython3",
   "version": "3.8.5"
  }
 },
 "nbformat": 4,
 "nbformat_minor": 4
}
